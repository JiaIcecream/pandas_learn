{
 "cells": [
  {
   "cell_type": "markdown",
   "metadata": {},
   "source": [
    "pandas中的数据结构。\n",
    "1. DataFrame\n",
    "  我们大体可以将pandas中的DataFrame就是execl表格的一个sheet，它拥有行和列, DataFrame 是二维的\n",
    "2. Series\n",
    "  DataFrame中的一列，可以看做是DataFrame的一个子集，它也拥有索引，但是没有列名。Series 是一维的"
   ]
  },
  {
   "cell_type": "code",
   "execution_count": 2,
   "metadata": {},
   "outputs": [
    {
     "data": {
      "text/html": [
       "<div>\n",
       "<style scoped>\n",
       "    .dataframe tbody tr th:only-of-type {\n",
       "        vertical-align: middle;\n",
       "    }\n",
       "\n",
       "    .dataframe tbody tr th {\n",
       "        vertical-align: top;\n",
       "    }\n",
       "\n",
       "    .dataframe thead th {\n",
       "        text-align: right;\n",
       "    }\n",
       "</style>\n",
       "<table border=\"1\" class=\"dataframe\">\n",
       "  <thead>\n",
       "    <tr style=\"text-align: right;\">\n",
       "      <th></th>\n",
       "      <th>name</th>\n",
       "      <th>age</th>\n",
       "    </tr>\n",
       "  </thead>\n",
       "  <tbody>\n",
       "    <tr>\n",
       "      <th>0</th>\n",
       "      <td>liang</td>\n",
       "      <td>25</td>\n",
       "    </tr>\n",
       "    <tr>\n",
       "      <th>1</th>\n",
       "      <td>jia</td>\n",
       "      <td>26</td>\n",
       "    </tr>\n",
       "    <tr>\n",
       "      <th>2</th>\n",
       "      <td>xing</td>\n",
       "      <td>27</td>\n",
       "    </tr>\n",
       "  </tbody>\n",
       "</table>\n",
       "</div>"
      ],
      "text/plain": [
       "    name  age\n",
       "0  liang   25\n",
       "1    jia   26\n",
       "2   xing   27"
      ]
     },
     "execution_count": 2,
     "metadata": {},
     "output_type": "execute_result"
    }
   ],
   "source": [
    "# 自定义构建一个DataFrame\n",
    "import pandas as pd\n",
    "\n",
    "df = pd.DataFrame({\n",
    "      \"name\": [\"liang\", \"jia\", \"xing\"],\n",
    "      \"age\": [25, 26, 27]\n",
    "})\n",
    "\n",
    "df.head()"
   ]
  },
  {
   "cell_type": "code",
   "execution_count": 4,
   "metadata": {},
   "outputs": [
    {
     "data": {
      "text/plain": [
       "0    22\n",
       "1    23\n",
       "2    24\n",
       "Name: Age, dtype: int64"
      ]
     },
     "execution_count": 4,
     "metadata": {},
     "output_type": "execute_result"
    }
   ],
   "source": [
    "# 对于DataFrame 来说，一列就是一个Series, 使用方括号获取\n",
    "my_series = df[\"age\"]\n",
    "\n",
    "# 也可以通过定义的方式创建series\n",
    "init_series = pd.Series([22,23,24], name=\"Age\")\n",
    "\n",
    "# 获取到的series 没有对应的label, A pandas Series has no column labels\n",
    "init_series"
   ]
  },
  {
   "cell_type": "markdown",
   "metadata": {},
   "source": [
    "![alt text](image.png)"
   ]
  },
  {
   "cell_type": "code",
   "execution_count": 7,
   "metadata": {},
   "outputs": [
    {
     "data": {
      "text/plain": [
       "np.float64(26.0)"
      ]
     },
     "execution_count": 7,
     "metadata": {},
     "output_type": "execute_result"
    }
   ],
   "source": [
    "# 对于每一个Series 可以应用各种函数，例如我想知道 age中的最大值是多少;\n",
    "from numpy import median\n",
    "\n",
    "\n",
    "max = df[\"age\"].max()\n",
    "min = df[\"age\"].min()\n",
    "\n",
    "# 获取这一列的中位数\n",
    "median = df[\"age\"].median()\n",
    "\n",
    "median"
   ]
  },
  {
   "cell_type": "code",
   "execution_count": null,
   "metadata": {},
   "outputs": [
    {
     "name": "stdout",
     "output_type": "stream",
     "text": [
      "<class 'pandas.core.frame.DataFrame'>\n",
      "Index: 8 entries, count to max\n",
      "Data columns (total 1 columns):\n",
      " #   Column  Non-Null Count  Dtype  \n",
      "---  ------  --------------  -----  \n",
      " 0   age     8 non-null      float64\n",
      "dtypes: float64(1)\n",
      "memory usage: 128.0+ bytes\n"
     ]
    }
   ],
   "source": [
    "# 获取一些DataFrame中数值类型列的概览值, 对于文本类型的数据列，describe 不进行统计\n",
    "# describe 返回的数据类型是 DataFrame\n",
    "ds = df.describe()\n",
    "ds.info()"
   ]
  },
  {
   "cell_type": "code",
   "execution_count": null,
   "metadata": {},
   "outputs": [],
   "source": []
  }
 ],
 "metadata": {
  "kernelspec": {
   "display_name": "tee",
   "language": "python",
   "name": "python3"
  },
  "language_info": {
   "codemirror_mode": {
    "name": "ipython",
    "version": 3
   },
   "file_extension": ".py",
   "mimetype": "text/x-python",
   "name": "python",
   "nbconvert_exporter": "python",
   "pygments_lexer": "ipython3",
   "version": "3.10.14"
  }
 },
 "nbformat": 4,
 "nbformat_minor": 2
}
